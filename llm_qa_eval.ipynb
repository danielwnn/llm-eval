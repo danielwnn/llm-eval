{
  "cells": [
    {
      "cell_type": "code",
      "execution_count": 2,
      "metadata": {
        "colab": {
          "base_uri": "https://localhost:8080/",
          "height": 1000
        },
        "id": "ohPUPez8imvE",
        "outputId": "7ce3cf6b-3347-48c8-90d0-914a6d6982cf"
      },
      "outputs": [
        {
          "name": "stdout",
          "output_type": "stream",
          "text": [
            "Collecting google-cloud-aiplatform\n",
            "  Downloading google_cloud_aiplatform-1.34.0-py2.py3-none-any.whl (3.1 MB)\n",
            "\u001b[2K     \u001b[90m━━━━━━━━━━━━━━━━━━━━━━━━━━━━━━━━━━━━━━━━\u001b[0m \u001b[32m3.1/3.1 MB\u001b[0m \u001b[31m14.5 MB/s\u001b[0m eta \u001b[36m0:00:00\u001b[0m\n",
            "\u001b[?25hCollecting google-cloud-discoveryengine\n",
            "  Downloading google_cloud_discoveryengine-0.11.1-py3-none-any.whl (523 kB)\n",
            "\u001b[2K     \u001b[90m━━━━━━━━━━━━━━━━━━━━━━━━━━━━━━━━━━━━━━\u001b[0m \u001b[32m523.5/523.5 kB\u001b[0m \u001b[31m22.0 MB/s\u001b[0m eta \u001b[36m0:00:00\u001b[0m\n",
            "\u001b[?25hCollecting langchain[docarray]==0.0.305\n",
            "  Downloading langchain-0.0.305-py3-none-any.whl (1.8 MB)\n",
            "\u001b[2K     \u001b[90m━━━━━━━━━━━━━━━━━━━━━━━━━━━━━━━━━━━━━━━━\u001b[0m \u001b[32m1.8/1.8 MB\u001b[0m \u001b[31m30.4 MB/s\u001b[0m eta \u001b[36m0:00:00\u001b[0m\n",
            "\u001b[?25hCollecting pydantic==1.10.8\n",
            "  Downloading pydantic-1.10.8-cp310-cp310-manylinux_2_17_x86_64.manylinux2014_x86_64.whl (3.1 MB)\n",
            "\u001b[2K     \u001b[90m━━━━━━━━━━━━━━━━━━━━━━━━━━━━━━━━━━━━━━━━\u001b[0m \u001b[32m3.1/3.1 MB\u001b[0m \u001b[31m40.0 MB/s\u001b[0m eta \u001b[36m0:00:00\u001b[0m\n",
            "\u001b[?25hCollecting typing-inspect==0.8.0\n",
            "  Downloading typing_inspect-0.8.0-py3-none-any.whl (8.7 kB)\n",
            "Requirement already satisfied: typing_extensions==4.5.0 in /usr/local/lib/python3.10/dist-packages (4.5.0)\n",
            "Requirement already satisfied: PyYAML>=5.3 in /usr/local/lib/python3.10/dist-packages (from langchain[docarray]==0.0.305) (6.0.1)\n",
            "Requirement already satisfied: SQLAlchemy<3,>=1.4 in /usr/local/lib/python3.10/dist-packages (from langchain[docarray]==0.0.305) (2.0.21)\n",
            "Requirement already satisfied: aiohttp<4.0.0,>=3.8.3 in /usr/local/lib/python3.10/dist-packages (from langchain[docarray]==0.0.305) (3.8.5)\n",
            "Requirement already satisfied: anyio<4.0 in /usr/local/lib/python3.10/dist-packages (from langchain[docarray]==0.0.305) (3.7.1)\n",
            "Requirement already satisfied: async-timeout<5.0.0,>=4.0.0 in /usr/local/lib/python3.10/dist-packages (from langchain[docarray]==0.0.305) (4.0.3)\n",
            "Collecting dataclasses-json<0.7,>=0.5.7 (from langchain[docarray]==0.0.305)\n",
            "  Downloading dataclasses_json-0.6.1-py3-none-any.whl (27 kB)\n",
            "Collecting jsonpatch<2.0,>=1.33 (from langchain[docarray]==0.0.305)\n",
            "  Downloading jsonpatch-1.33-py2.py3-none-any.whl (12 kB)\n",
            "Collecting langsmith<0.1.0,>=0.0.38 (from langchain[docarray]==0.0.305)\n",
            "  Downloading langsmith-0.0.43-py3-none-any.whl (40 kB)\n",
            "\u001b[2K     \u001b[90m━━━━━━━━━━━━━━━━━━━━━━━━━━━━━━━━━━━━━━━━\u001b[0m \u001b[32m40.0/40.0 kB\u001b[0m \u001b[31m3.7 MB/s\u001b[0m eta \u001b[36m0:00:00\u001b[0m\n",
            "\u001b[?25hRequirement already satisfied: numexpr<3.0.0,>=2.8.4 in /usr/local/lib/python3.10/dist-packages (from langchain[docarray]==0.0.305) (2.8.7)\n",
            "Requirement already satisfied: numpy<2,>=1 in /usr/local/lib/python3.10/dist-packages (from langchain[docarray]==0.0.305) (1.23.5)\n",
            "Requirement already satisfied: requests<3,>=2 in /usr/local/lib/python3.10/dist-packages (from langchain[docarray]==0.0.305) (2.31.0)\n",
            "Requirement already satisfied: tenacity<9.0.0,>=8.1.0 in /usr/local/lib/python3.10/dist-packages (from langchain[docarray]==0.0.305) (8.2.3)\n",
            "Collecting docarray[hnswlib]<0.33.0,>=0.32.0 (from langchain[docarray]==0.0.305)\n",
            "  Downloading docarray-0.32.1-py3-none-any.whl (215 kB)\n",
            "\u001b[2K     \u001b[90m━━━━━━━━━━━━━━━━━━━━━━━━━━━━━━━━━━━━━━\u001b[0m \u001b[32m215.3/215.3 kB\u001b[0m \u001b[31m20.7 MB/s\u001b[0m eta \u001b[36m0:00:00\u001b[0m\n",
            "\u001b[?25hCollecting mypy-extensions>=0.3.0 (from typing-inspect==0.8.0)\n",
            "  Downloading mypy_extensions-1.0.0-py3-none-any.whl (4.7 kB)\n",
            "Requirement already satisfied: google-api-core[grpc]!=2.0.*,!=2.1.*,!=2.2.*,!=2.3.*,!=2.4.*,!=2.5.*,!=2.6.*,!=2.7.*,<3.0.0dev,>=1.32.0 in /usr/local/lib/python3.10/dist-packages (from google-cloud-aiplatform) (2.11.1)\n",
            "Requirement already satisfied: proto-plus<2.0.0dev,>=1.22.0 in /usr/local/lib/python3.10/dist-packages (from google-cloud-aiplatform) (1.22.3)\n",
            "Requirement already satisfied: protobuf!=3.20.0,!=3.20.1,!=4.21.0,!=4.21.1,!=4.21.2,!=4.21.3,!=4.21.4,!=4.21.5,<5.0.0dev,>=3.19.5 in /usr/local/lib/python3.10/dist-packages (from google-cloud-aiplatform) (3.20.3)\n",
            "Requirement already satisfied: packaging>=14.3 in /usr/local/lib/python3.10/dist-packages (from google-cloud-aiplatform) (23.2)\n",
            "Requirement already satisfied: google-cloud-storage<3.0.0dev,>=1.32.0 in /usr/local/lib/python3.10/dist-packages (from google-cloud-aiplatform) (2.8.0)\n",
            "Requirement already satisfied: google-cloud-bigquery<4.0.0dev,>=1.15.0 in /usr/local/lib/python3.10/dist-packages (from google-cloud-aiplatform) (3.10.0)\n",
            "Collecting google-cloud-resource-manager<3.0.0dev,>=1.3.3 (from google-cloud-aiplatform)\n",
            "  Downloading google_cloud_resource_manager-1.10.4-py2.py3-none-any.whl (320 kB)\n",
            "\u001b[2K     \u001b[90m━━━━━━━━━━━━━━━━━━━━━━━━━━━━━━━━━━━━━━\u001b[0m \u001b[32m321.0/321.0 kB\u001b[0m \u001b[31m29.0 MB/s\u001b[0m eta \u001b[36m0:00:00\u001b[0m\n",
            "\u001b[?25hCollecting shapely<2.0.0 (from google-cloud-aiplatform)\n",
            "  Downloading Shapely-1.8.5.post1-cp310-cp310-manylinux_2_12_x86_64.manylinux2010_x86_64.whl (2.0 MB)\n",
            "\u001b[2K     \u001b[90m━━━━━━━━━━━━━━━━━━━━━━━━━━━━━━━━━━━━━━━━\u001b[0m \u001b[32m2.0/2.0 MB\u001b[0m \u001b[31m50.0 MB/s\u001b[0m eta \u001b[36m0:00:00\u001b[0m\n",
            "\u001b[?25hRequirement already satisfied: attrs>=17.3.0 in /usr/local/lib/python3.10/dist-packages (from aiohttp<4.0.0,>=3.8.3->langchain[docarray]==0.0.305) (23.1.0)\n",
            "Requirement already satisfied: charset-normalizer<4.0,>=2.0 in /usr/local/lib/python3.10/dist-packages (from aiohttp<4.0.0,>=3.8.3->langchain[docarray]==0.0.305) (3.3.0)\n",
            "Requirement already satisfied: multidict<7.0,>=4.5 in /usr/local/lib/python3.10/dist-packages (from aiohttp<4.0.0,>=3.8.3->langchain[docarray]==0.0.305) (6.0.4)\n",
            "Requirement already satisfied: yarl<2.0,>=1.0 in /usr/local/lib/python3.10/dist-packages (from aiohttp<4.0.0,>=3.8.3->langchain[docarray]==0.0.305) (1.9.2)\n",
            "Requirement already satisfied: frozenlist>=1.1.1 in /usr/local/lib/python3.10/dist-packages (from aiohttp<4.0.0,>=3.8.3->langchain[docarray]==0.0.305) (1.4.0)\n",
            "Requirement already satisfied: aiosignal>=1.1.2 in /usr/local/lib/python3.10/dist-packages (from aiohttp<4.0.0,>=3.8.3->langchain[docarray]==0.0.305) (1.3.1)\n",
            "Requirement already satisfied: idna>=2.8 in /usr/local/lib/python3.10/dist-packages (from anyio<4.0->langchain[docarray]==0.0.305) (3.4)\n",
            "Requirement already satisfied: sniffio>=1.1 in /usr/local/lib/python3.10/dist-packages (from anyio<4.0->langchain[docarray]==0.0.305) (1.3.0)\n",
            "Requirement already satisfied: exceptiongroup in /usr/local/lib/python3.10/dist-packages (from anyio<4.0->langchain[docarray]==0.0.305) (1.1.3)\n",
            "Collecting marshmallow<4.0.0,>=3.18.0 (from dataclasses-json<0.7,>=0.5.7->langchain[docarray]==0.0.305)\n",
            "  Downloading marshmallow-3.20.1-py3-none-any.whl (49 kB)\n",
            "\u001b[2K     \u001b[90m━━━━━━━━━━━━━━━━━━━━━━━━━━━━━━━━━━━━━━━━\u001b[0m \u001b[32m49.4/49.4 kB\u001b[0m \u001b[31m4.9 MB/s\u001b[0m eta \u001b[36m0:00:00\u001b[0m\n",
            "\u001b[?25hCollecting orjson>=3.8.2 (from docarray[hnswlib]<0.33.0,>=0.32.0->langchain[docarray]==0.0.305)\n",
            "  Downloading orjson-3.9.7-cp310-cp310-manylinux_2_17_x86_64.manylinux2014_x86_64.whl (138 kB)\n",
            "\u001b[2K     \u001b[90m━━━━━━━━━━━━━━━━━━━━━━━━━━━━━━━━━━━━━━\u001b[0m \u001b[32m138.7/138.7 kB\u001b[0m \u001b[31m11.8 MB/s\u001b[0m eta \u001b[36m0:00:00\u001b[0m\n",
            "\u001b[?25hRequirement already satisfied: rich>=13.1.0 in /usr/local/lib/python3.10/dist-packages (from docarray[hnswlib]<0.33.0,>=0.32.0->langchain[docarray]==0.0.305) (13.6.0)\n",
            "Collecting types-requests>=2.28.11.6 (from docarray[hnswlib]<0.33.0,>=0.32.0->langchain[docarray]==0.0.305)\n",
            "  Downloading types_requests-2.31.0.8-py3-none-any.whl (14 kB)\n",
            "Collecting hnswlib>=0.6.2 (from docarray[hnswlib]<0.33.0,>=0.32.0->langchain[docarray]==0.0.305)\n",
            "  Downloading hnswlib-0.7.0.tar.gz (33 kB)\n",
            "  Installing build dependencies ... \u001b[?25l\u001b[?25hdone\n",
            "  Getting requirements to build wheel ... \u001b[?25l\u001b[?25hdone\n",
            "  Preparing metadata (pyproject.toml) ... \u001b[?25l\u001b[?25hdone\n",
            "Requirement already satisfied: googleapis-common-protos<2.0.dev0,>=1.56.2 in /usr/local/lib/python3.10/dist-packages (from google-api-core[grpc]!=2.0.*,!=2.1.*,!=2.2.*,!=2.3.*,!=2.4.*,!=2.5.*,!=2.6.*,!=2.7.*,<3.0.0dev,>=1.32.0->google-cloud-aiplatform) (1.60.0)\n",
            "Requirement already satisfied: google-auth<3.0.dev0,>=2.14.1 in /usr/local/lib/python3.10/dist-packages (from google-api-core[grpc]!=2.0.*,!=2.1.*,!=2.2.*,!=2.3.*,!=2.4.*,!=2.5.*,!=2.6.*,!=2.7.*,<3.0.0dev,>=1.32.0->google-cloud-aiplatform) (2.17.3)\n",
            "Requirement already satisfied: grpcio<2.0dev,>=1.33.2 in /usr/local/lib/python3.10/dist-packages (from google-api-core[grpc]!=2.0.*,!=2.1.*,!=2.2.*,!=2.3.*,!=2.4.*,!=2.5.*,!=2.6.*,!=2.7.*,<3.0.0dev,>=1.32.0->google-cloud-aiplatform) (1.59.0)\n",
            "Requirement already satisfied: grpcio-status<2.0.dev0,>=1.33.2 in /usr/local/lib/python3.10/dist-packages (from google-api-core[grpc]!=2.0.*,!=2.1.*,!=2.2.*,!=2.3.*,!=2.4.*,!=2.5.*,!=2.6.*,!=2.7.*,<3.0.0dev,>=1.32.0->google-cloud-aiplatform) (1.48.2)\n",
            "Requirement already satisfied: google-cloud-core<3.0.0dev,>=1.6.0 in /usr/local/lib/python3.10/dist-packages (from google-cloud-bigquery<4.0.0dev,>=1.15.0->google-cloud-aiplatform) (2.3.3)\n",
            "Requirement already satisfied: google-resumable-media<3.0dev,>=0.6.0 in /usr/local/lib/python3.10/dist-packages (from google-cloud-bigquery<4.0.0dev,>=1.15.0->google-cloud-aiplatform) (2.6.0)\n",
            "Requirement already satisfied: python-dateutil<3.0dev,>=2.7.2 in /usr/local/lib/python3.10/dist-packages (from google-cloud-bigquery<4.0.0dev,>=1.15.0->google-cloud-aiplatform) (2.8.2)\n",
            "Requirement already satisfied: grpc-google-iam-v1<1.0.0dev,>=0.12.4 in /usr/local/lib/python3.10/dist-packages (from google-cloud-resource-manager<3.0.0dev,>=1.3.3->google-cloud-aiplatform) (0.12.6)\n",
            "Collecting jsonpointer>=1.9 (from jsonpatch<2.0,>=1.33->langchain[docarray]==0.0.305)\n",
            "  Downloading jsonpointer-2.4-py2.py3-none-any.whl (7.8 kB)\n",
            "Requirement already satisfied: urllib3<3,>=1.21.1 in /usr/local/lib/python3.10/dist-packages (from requests<3,>=2->langchain[docarray]==0.0.305) (2.0.6)\n",
            "Requirement already satisfied: certifi>=2017.4.17 in /usr/local/lib/python3.10/dist-packages (from requests<3,>=2->langchain[docarray]==0.0.305) (2023.7.22)\n",
            "Requirement already satisfied: greenlet!=0.4.17 in /usr/local/lib/python3.10/dist-packages (from SQLAlchemy<3,>=1.4->langchain[docarray]==0.0.305) (3.0.0)\n",
            "Requirement already satisfied: cachetools<6.0,>=2.0.0 in /usr/local/lib/python3.10/dist-packages (from google-auth<3.0.dev0,>=2.14.1->google-api-core[grpc]!=2.0.*,!=2.1.*,!=2.2.*,!=2.3.*,!=2.4.*,!=2.5.*,!=2.6.*,!=2.7.*,<3.0.0dev,>=1.32.0->google-cloud-aiplatform) (5.3.1)\n",
            "Requirement already satisfied: pyasn1-modules>=0.2.1 in /usr/local/lib/python3.10/dist-packages (from google-auth<3.0.dev0,>=2.14.1->google-api-core[grpc]!=2.0.*,!=2.1.*,!=2.2.*,!=2.3.*,!=2.4.*,!=2.5.*,!=2.6.*,!=2.7.*,<3.0.0dev,>=1.32.0->google-cloud-aiplatform) (0.3.0)\n",
            "Requirement already satisfied: six>=1.9.0 in /usr/local/lib/python3.10/dist-packages (from google-auth<3.0.dev0,>=2.14.1->google-api-core[grpc]!=2.0.*,!=2.1.*,!=2.2.*,!=2.3.*,!=2.4.*,!=2.5.*,!=2.6.*,!=2.7.*,<3.0.0dev,>=1.32.0->google-cloud-aiplatform) (1.16.0)\n",
            "Requirement already satisfied: rsa<5,>=3.1.4 in /usr/local/lib/python3.10/dist-packages (from google-auth<3.0.dev0,>=2.14.1->google-api-core[grpc]!=2.0.*,!=2.1.*,!=2.2.*,!=2.3.*,!=2.4.*,!=2.5.*,!=2.6.*,!=2.7.*,<3.0.0dev,>=1.32.0->google-cloud-aiplatform) (4.9)\n",
            "Requirement already satisfied: google-crc32c<2.0dev,>=1.0 in /usr/local/lib/python3.10/dist-packages (from google-resumable-media<3.0dev,>=0.6.0->google-cloud-bigquery<4.0.0dev,>=1.15.0->google-cloud-aiplatform) (1.5.0)\n",
            "Requirement already satisfied: markdown-it-py>=2.2.0 in /usr/local/lib/python3.10/dist-packages (from rich>=13.1.0->docarray[hnswlib]<0.33.0,>=0.32.0->langchain[docarray]==0.0.305) (3.0.0)\n",
            "Requirement already satisfied: pygments<3.0.0,>=2.13.0 in /usr/local/lib/python3.10/dist-packages (from rich>=13.1.0->docarray[hnswlib]<0.33.0,>=0.32.0->langchain[docarray]==0.0.305) (2.16.1)\n",
            "Requirement already satisfied: mdurl~=0.1 in /usr/local/lib/python3.10/dist-packages (from markdown-it-py>=2.2.0->rich>=13.1.0->docarray[hnswlib]<0.33.0,>=0.32.0->langchain[docarray]==0.0.305) (0.1.2)\n",
            "Requirement already satisfied: pyasn1<0.6.0,>=0.4.6 in /usr/local/lib/python3.10/dist-packages (from pyasn1-modules>=0.2.1->google-auth<3.0.dev0,>=2.14.1->google-api-core[grpc]!=2.0.*,!=2.1.*,!=2.2.*,!=2.3.*,!=2.4.*,!=2.5.*,!=2.6.*,!=2.7.*,<3.0.0dev,>=1.32.0->google-cloud-aiplatform) (0.5.0)\n",
            "Building wheels for collected packages: hnswlib\n",
            "  Building wheel for hnswlib (pyproject.toml) ... \u001b[?25l\u001b[?25hdone\n",
            "  Created wheel for hnswlib: filename=hnswlib-0.7.0-cp310-cp310-linux_x86_64.whl size=2202683 sha256=1d32561f95af2674c652586ef0723c7615cbc25623a002555b78b42ae0a78372\n",
            "  Stored in directory: /root/.cache/pip/wheels/8a/ae/ec/235a682e0041fbaeee389843670581ec6c66872db856dfa9a4\n",
            "Successfully built hnswlib\n",
            "Installing collected packages: types-requests, shapely, pydantic, orjson, mypy-extensions, marshmallow, jsonpointer, hnswlib, typing-inspect, langsmith, jsonpatch, docarray, dataclasses-json, langchain, google-cloud-resource-manager, google-cloud-discoveryengine, google-cloud-aiplatform\n",
            "\u001b[33m  WARNING: The script langsmith is installed in '/root/.local/bin' which is not on PATH.\n",
            "  Consider adding this directory to PATH or, if you prefer to suppress this warning, use --no-warn-script-location.\u001b[0m\u001b[33m\n",
            "\u001b[0m\u001b[33m  WARNING: The script langchain-server is installed in '/root/.local/bin' which is not on PATH.\n",
            "  Consider adding this directory to PATH or, if you prefer to suppress this warning, use --no-warn-script-location.\u001b[0m\u001b[33m\n",
            "\u001b[0m\u001b[33m  WARNING: The script tb-gcp-uploader is installed in '/root/.local/bin' which is not on PATH.\n",
            "  Consider adding this directory to PATH or, if you prefer to suppress this warning, use --no-warn-script-location.\u001b[0m\u001b[33m\n",
            "\u001b[0mSuccessfully installed dataclasses-json-0.6.1 docarray-0.32.1 google-cloud-aiplatform-1.34.0 google-cloud-discoveryengine-0.11.1 google-cloud-resource-manager-1.10.4 hnswlib-0.7.0 jsonpatch-1.33 jsonpointer-2.4 langchain-0.0.305 langsmith-0.0.43 marshmallow-3.20.1 mypy-extensions-1.0.0 orjson-3.9.7 pydantic-1.10.8 shapely-1.8.5.post1 types-requests-2.31.0.8 typing-inspect-0.8.0\n"
          ]
        },
        {
          "data": {
            "application/vnd.colab-display-data+json": {
              "pip_warning": {
                "packages": [
                  "google"
                ]
              }
            }
          },
          "metadata": {},
          "output_type": "display_data"
        }
      ],
      "source": [
        "# install the latest VertexAI and langchain package\n",
        "! pip install google-cloud-aiplatform google-cloud-discoveryengine langchain[docarray]==0.0.305 pydantic==1.10.8 typing-inspect==0.8.0 typing_extensions==4.5.0 --upgrade --user"
      ]
    },
    {
      "cell_type": "code",
      "execution_count": 1,
      "metadata": {
        "id": "m2xk3_1AhnJv"
      },
      "outputs": [],
      "source": [
        "# Authenticate with GCP\n",
        "\n",
        "import os\n",
        "import sys\n",
        "\n",
        "if \"google.colab\" in sys.modules:\n",
        "    from google.colab import auth as google_auth\n",
        "\n",
        "    google_auth.authenticate_user()"
      ]
    },
    {
      "cell_type": "code",
      "execution_count": 2,
      "metadata": {
        "id": "jfT7AMRWhsHW"
      },
      "outputs": [],
      "source": [
        "# set environment variables\n",
        "\n",
        "PROJECT_ID = \"<project_id>\"\n",
        "SEARCH_ENGINE_ID = \"<search_engine_id>\"\n",
        "REGION = \"us-central1\"\n",
        "MODEL = \"text-bison@001\""
      ]
    },
    {
      "cell_type": "code",
      "execution_count": 3,
      "metadata": {
        "id": "NqMipaN1iBO_"
      },
      "outputs": [],
      "source": [
        "# init the Vertext LLM model - bison\n",
        "import vertexai\n",
        "from langchain.llms import VertexAI\n",
        "\n",
        "vertexai.init(project=PROJECT_ID, location=REGION)\n",
        "bison = VertexAI(model_name=MODEL, temperature = 0.0)"
      ]
    },
    {
      "cell_type": "code",
      "execution_count": 43,
      "metadata": {
        "id": "YQw9LVCug2Ls"
      },
      "outputs": [],
      "source": [
        "# Load the document data\n",
        "from langchain.document_loaders import CSVLoader\n",
        "\n",
        "file = '/content/catalog_1000.csv'\n",
        "loader = CSVLoader(file_path=file, encoding='utf-8')\n",
        "data = loader.load()"
      ]
    },
    {
      "cell_type": "code",
      "execution_count": 44,
      "metadata": {
        "colab": {
          "base_uri": "https://localhost:8080/"
        },
        "id": "ZkWTdg0taeQK",
        "outputId": "144c760d-b329-4527-ad5c-3e1357e25cf6"
      },
      "outputs": [
        {
          "name": "stdout",
          "output_type": "stream",
          "text": [
            "Question: What is the name of the jacket that is suitable for light activity up to 20 degrees and moderate activity up to -30 degrees?\n",
            "Answer: Ultra-Lofty 850 Stretch Down Hooded Jacket\n",
            "\n",
            "Question: What is the name of the sheet set that is made of brushed cotton flannel?\n",
            "Answer: CozyCloud Flannel Sheet Set\n",
            "\n",
            "Question: What is the name of the product that is made of 85% wool and 15% nylon?\n",
            "Answer: Men's Maine Explorer Zip-Front Jac-Shirt\n",
            "\n",
            "Question: What is the name of the shirt that is made of 100% cotton?\n",
            "Answer: Easy-Care Classic Stripe Short-Sleeve Shirt, Traditional Fit\n",
            "\n",
            "Question: What is the weight of the kayak with the seat?\n",
            "Answer: 38 lb.\n",
            "\n"
          ]
        }
      ],
      "source": [
        "# Generate the Q&A pairs\n",
        "from langchain.evaluation.qa import generate_chain\n",
        "\n",
        "example_gen_chain = generate_chain.QAGenerateChain.from_llm(bison)\n",
        "\n",
        "qa_pairs = example_gen_chain.apply(\n",
        "    [{\"doc\": t} for t in data[11:16]]\n",
        ")\n",
        "\n",
        "# print(qa_pairs)\n",
        "\n",
        "# Print the generated question-answer pairs\n",
        "for item in qa_pairs:\n",
        "    print(f\"Question: {item['qa_pairs']['query']}\")\n",
        "    print(f\"Answer: {item['qa_pairs']['answer']}\")\n",
        "    print()"
      ]
    },
    {
      "cell_type": "code",
      "execution_count": 45,
      "metadata": {
        "id": "_J-hWpB3YY8A"
      },
      "outputs": [],
      "source": [
        "examples = [\n",
        "  {\n",
        "    \"qa_pairs\": {\n",
        "      \"query\": \"Do the Cozy Comfort Pullover Set have side pockets?\",\n",
        "      \"answer\": \"Yes\"\n",
        "    }\n",
        "  },{\n",
        "    \"qa_pairs\": {\n",
        "        \"query\": \"What collection is the Ultra-Lofty 850 Stretch Down Hooded Jacket from?\",\n",
        "        \"answer\": \"The DownTek collection\"\n",
        "    }\n",
        "  }\n",
        "]\n",
        "\n",
        "qa_pairs += examples\n",
        "\n",
        "examples = []\n",
        "for item in qa_pairs:\n",
        "  examples.append({\n",
        "    \"query\": item['qa_pairs']['query'],\n",
        "    \"answer\": item['qa_pairs']['answer']\n",
        "  })"
      ]
    },
    {
      "cell_type": "code",
      "execution_count": 46,
      "metadata": {
        "colab": {
          "base_uri": "https://localhost:8080/"
        },
        "id": "DgDyjvlJYzDV",
        "outputId": "e8132f61-1b90-4f40-9309-d82815b68f4b"
      },
      "outputs": [
        {
          "name": "stdout",
          "output_type": "stream",
          "text": [
            "[{'query': 'What is the name of the jacket that is suitable for light activity up to 20 degrees and moderate activity up to -30 degrees?', 'answer': 'Ultra-Lofty 850 Stretch Down Hooded Jacket'}, {'query': 'What is the name of the sheet set that is made of brushed cotton flannel?', 'answer': 'CozyCloud Flannel Sheet Set'}, {'query': 'What is the name of the product that is made of 85% wool and 15% nylon?', 'answer': \"Men's Maine Explorer Zip-Front Jac-Shirt\"}, {'query': 'What is the name of the shirt that is made of 100% cotton?', 'answer': 'Easy-Care Classic Stripe Short-Sleeve Shirt, Traditional Fit'}, {'query': 'What is the weight of the kayak with the seat?', 'answer': '38 lb.'}, {'query': 'Do the Cozy Comfort Pullover Set have side pockets?', 'answer': 'Yes'}, {'query': 'What collection is the Ultra-Lofty 850 Stretch Down Hooded Jacket from?', 'answer': 'The DownTek collection'}]\n"
          ]
        }
      ],
      "source": [
        "print(examples)"
      ]
    },
    {
      "cell_type": "code",
      "execution_count": 47,
      "metadata": {
        "id": "EBi4bOSwdBLR"
      },
      "outputs": [],
      "source": [
        "from langchain.chains import RetrievalQA\n",
        "from langchain.indexes import VectorstoreIndexCreator\n",
        "from langchain.vectorstores import DocArrayInMemorySearch\n",
        "from langchain.embeddings import VertexAIEmbeddings\n",
        "\n",
        "# create the in memory VectorDB index\n",
        "index = VectorstoreIndexCreator(\n",
        "    vectorstore_cls=DocArrayInMemorySearch,\n",
        "    embedding=VertexAIEmbeddings()\n",
        ").from_loaders([loader])\n",
        "\n",
        "# Q&A chain\n",
        "qa = RetrievalQA.from_chain_type(\n",
        "    llm=bison,\n",
        "    chain_type=\"stuff\",\n",
        "    retriever=index.vectorstore.as_retriever(),\n",
        "    verbose=True,\n",
        "    chain_type_kwargs = {\n",
        "        \"document_separator\": \"<<<<>>>>>\"\n",
        "    }\n",
        ")"
      ]
    },
    {
      "cell_type": "code",
      "execution_count": 49,
      "metadata": {
        "colab": {
          "base_uri": "https://localhost:8080/"
        },
        "id": "FWbiPJCGeId1",
        "outputId": "6c2736ed-6664-4167-db01-6b678fc452b1"
      },
      "outputs": [
        {
          "name": "stdout",
          "output_type": "stream",
          "text": [
            "question: What is the name of the jacket that is suitable for light activity up to 20 degrees and moderate activity up to -30 degrees?\n",
            "\n",
            "\n",
            "\u001b[1m> Entering new RetrievalQA chain...\u001b[0m\n",
            "\n",
            "\u001b[1m> Finished chain.\u001b[0m\n",
            "answer: Ultra-Lofty 850 Stretch Down Hooded Jacket\n"
          ]
        }
      ],
      "source": [
        "print(f\"question: {examples[0]['query']}\")\n",
        "answer = qa.run(examples[0][\"query\"])\n",
        "print(f\"answer: {answer}\")"
      ]
    },
    {
      "cell_type": "code",
      "execution_count": 50,
      "metadata": {
        "colab": {
          "base_uri": "https://localhost:8080/"
        },
        "id": "AQu9ZkbYfZxv",
        "outputId": "8ad0ebfb-a54c-4731-ad79-3e66010d3de3"
      },
      "outputs": [
        {
          "name": "stdout",
          "output_type": "stream",
          "text": [
            "\u001b[32;1m\u001b[1;3m[chain/start]\u001b[0m \u001b[1m[1:chain:RetrievalQA] Entering Chain run with input:\n",
            "\u001b[0m{\n",
            "  \"query\": \"What is the name of the jacket that is suitable for light activity up to 20 degrees and moderate activity up to -30 degrees?\"\n",
            "}\n",
            "\u001b[32;1m\u001b[1;3m[chain/start]\u001b[0m \u001b[1m[1:chain:RetrievalQA > 3:chain:StuffDocumentsChain] Entering Chain run with input:\n",
            "\u001b[0m[inputs]\n",
            "\u001b[32;1m\u001b[1;3m[chain/start]\u001b[0m \u001b[1m[1:chain:RetrievalQA > 3:chain:StuffDocumentsChain > 4:chain:LLMChain] Entering Chain run with input:\n",
            "\u001b[0m{\n",
            "  \"question\": \"What is the name of the jacket that is suitable for light activity up to 20 degrees and moderate activity up to -30 degrees?\",\n",
            "  \"context\": \": 11\\nname: Ultra-Lofty 850 Stretch Down Hooded Jacket\\ndescription: This technical stretch down jacket from our DownTek collection is sure to keep you warm and comfortable with its full-stretch construction providing exceptional range of motion. With a slightly fitted style that falls at the hip and best with a midweight layer, this jacket is suitable for light activity up to 20° and moderate activity up to -30°. The soft and durable 100% polyester shell offers complete windproof protection and is insulated with warm, lofty goose down. Other features include welded baffles for a no-stitch construction and excellent stretch, an adjustable hood, an interior media port and mesh stash pocket and a hem drawcord. Machine wash and dry. Imported.<<<<>>>>>: 845\\nname: Foldaway Primaloft Jacket\\ndescription: Our PrimaLoft Packaway Jacket has been redesigned and improved - it provides the same versatile and lightweight construction, but with added warmth. It is wind- and water-resistant, and is made with 100% recycled polyester. It contains 60-gram PrimaLoft® Gold Insulation with Cross Core™ technology and NASA-developed Aerogel technology, making it 15% warmer without any extra weight. It also features an internal media pocket with audio port, two hand pockets, one chest pocket and a drawcord hem to seal out cold drafts. It is easily packable and machine washable. \\n\\nFor size and fit, the jacket is slightly fitted, and is best with midweight layer. It falls below hip. \\n\\nLight activity: to 30°  Moderate activity: to -15°.<<<<>>>>>: 903\\nname: Mountainview 3-in-1 Fleece Jacket\\ndescription: Get three options in one with this sweater fleece 3-in-1 jacket, combining the warmth of our popular Sweater Fleece with a durable, water-resistant shell for all-season versatility. Light activity: to 35°  Moderate activity: to -15°. Traditional Fit and falls at the hip, best with midweight layer.\\n\\nFrom fall chills to spring rain, this interchangeable jacket has got you covered. We love the endless versatility and how the durable, water-resistant shell repels both rain and snow. Worn alone or zipped together, it will be your go-to all year long.<<<<>>>>>: 244\\nname: UltraLoft 850 Down Jacket\\ndescription: Our revolutionary 850 jacket is the perfect choice for all your outdoor adventures. Combining the latest outerwear technology, the jacket features innovative DownTek fill, 850-fill-power, and a Pertex Quantum nylon shell for unbeatable performance. Light activity is suitable up to 25° and moderate activity up to -25°. With a center back length of 29½\\\" (Tall 31\\\") and a slightly fitted design that falls at the hip, this jacket is made to move. It's crafted with premium 850 down for more warmth without the weight and treated with revolutionary DownTek that allows it to resist moisture and dry faster. The game-changing Pertex Quantum nylon shell is tightly woven to resist the elements. The jacket also features elastic cuffs, an internal stowaway pocket, external zip handwarmer pockets, media storage with headphone ports, and machine-washable fabric. Questions? Contact us for more information.\"\n",
            "}\n",
            "\u001b[32;1m\u001b[1;3m[llm/start]\u001b[0m \u001b[1m[1:chain:RetrievalQA > 3:chain:StuffDocumentsChain > 4:chain:LLMChain > 5:llm:VertexAI] Entering LLM run with input:\n",
            "\u001b[0m{\n",
            "  \"prompts\": [\n",
            "    \"Use the following pieces of context to answer the question at the end. If you don't know the answer, just say that you don't know, don't try to make up an answer.\\n\\n: 11\\nname: Ultra-Lofty 850 Stretch Down Hooded Jacket\\ndescription: This technical stretch down jacket from our DownTek collection is sure to keep you warm and comfortable with its full-stretch construction providing exceptional range of motion. With a slightly fitted style that falls at the hip and best with a midweight layer, this jacket is suitable for light activity up to 20° and moderate activity up to -30°. The soft and durable 100% polyester shell offers complete windproof protection and is insulated with warm, lofty goose down. Other features include welded baffles for a no-stitch construction and excellent stretch, an adjustable hood, an interior media port and mesh stash pocket and a hem drawcord. Machine wash and dry. Imported.<<<<>>>>>: 845\\nname: Foldaway Primaloft Jacket\\ndescription: Our PrimaLoft Packaway Jacket has been redesigned and improved - it provides the same versatile and lightweight construction, but with added warmth. It is wind- and water-resistant, and is made with 100% recycled polyester. It contains 60-gram PrimaLoft® Gold Insulation with Cross Core™ technology and NASA-developed Aerogel technology, making it 15% warmer without any extra weight. It also features an internal media pocket with audio port, two hand pockets, one chest pocket and a drawcord hem to seal out cold drafts. It is easily packable and machine washable. \\n\\nFor size and fit, the jacket is slightly fitted, and is best with midweight layer. It falls below hip. \\n\\nLight activity: to 30°  Moderate activity: to -15°.<<<<>>>>>: 903\\nname: Mountainview 3-in-1 Fleece Jacket\\ndescription: Get three options in one with this sweater fleece 3-in-1 jacket, combining the warmth of our popular Sweater Fleece with a durable, water-resistant shell for all-season versatility. Light activity: to 35°  Moderate activity: to -15°. Traditional Fit and falls at the hip, best with midweight layer.\\n\\nFrom fall chills to spring rain, this interchangeable jacket has got you covered. We love the endless versatility and how the durable, water-resistant shell repels both rain and snow. Worn alone or zipped together, it will be your go-to all year long.<<<<>>>>>: 244\\nname: UltraLoft 850 Down Jacket\\ndescription: Our revolutionary 850 jacket is the perfect choice for all your outdoor adventures. Combining the latest outerwear technology, the jacket features innovative DownTek fill, 850-fill-power, and a Pertex Quantum nylon shell for unbeatable performance. Light activity is suitable up to 25° and moderate activity up to -25°. With a center back length of 29½\\\" (Tall 31\\\") and a slightly fitted design that falls at the hip, this jacket is made to move. It's crafted with premium 850 down for more warmth without the weight and treated with revolutionary DownTek that allows it to resist moisture and dry faster. The game-changing Pertex Quantum nylon shell is tightly woven to resist the elements. The jacket also features elastic cuffs, an internal stowaway pocket, external zip handwarmer pockets, media storage with headphone ports, and machine-washable fabric. Questions? Contact us for more information.\\n\\nQuestion: What is the name of the jacket that is suitable for light activity up to 20 degrees and moderate activity up to -30 degrees?\\nHelpful Answer:\"\n",
            "  ]\n",
            "}\n",
            "\u001b[36;1m\u001b[1;3m[llm/end]\u001b[0m \u001b[1m[1:chain:RetrievalQA > 3:chain:StuffDocumentsChain > 4:chain:LLMChain > 5:llm:VertexAI] [645ms] Exiting LLM run with output:\n",
            "\u001b[0m{\n",
            "  \"generations\": [\n",
            "    [\n",
            "      {\n",
            "        \"text\": \"Ultra-Lofty 850 Stretch Down Hooded Jacket\",\n",
            "        \"generation_info\": {\n",
            "          \"is_blocked\": false,\n",
            "          \"safety_attributes\": {}\n",
            "        }\n",
            "      }\n",
            "    ]\n",
            "  ],\n",
            "  \"llm_output\": null,\n",
            "  \"run\": null\n",
            "}\n",
            "\u001b[36;1m\u001b[1;3m[chain/end]\u001b[0m \u001b[1m[1:chain:RetrievalQA > 3:chain:StuffDocumentsChain > 4:chain:LLMChain] [646ms] Exiting Chain run with output:\n",
            "\u001b[0m{\n",
            "  \"text\": \"Ultra-Lofty 850 Stretch Down Hooded Jacket\"\n",
            "}\n",
            "\u001b[36;1m\u001b[1;3m[chain/end]\u001b[0m \u001b[1m[1:chain:RetrievalQA > 3:chain:StuffDocumentsChain] [648ms] Exiting Chain run with output:\n",
            "\u001b[0m{\n",
            "  \"output_text\": \"Ultra-Lofty 850 Stretch Down Hooded Jacket\"\n",
            "}\n",
            "\u001b[36;1m\u001b[1;3m[chain/end]\u001b[0m \u001b[1m[1:chain:RetrievalQA] [802ms] Exiting Chain run with output:\n",
            "\u001b[0m{\n",
            "  \"result\": \"Ultra-Lofty 850 Stretch Down Hooded Jacket\"\n",
            "}\n"
          ]
        }
      ],
      "source": [
        "import langchain\n",
        "langchain.debug = True\n",
        "\n",
        "qa.run(examples[0][\"query\"])\n",
        "\n",
        "# Turn off the debug mode\n",
        "langchain.debug = False"
      ]
    },
    {
      "cell_type": "code",
      "execution_count": 51,
      "metadata": {
        "colab": {
          "base_uri": "https://localhost:8080/"
        },
        "id": "ZY3JragbhN68",
        "outputId": "1513b412-2424-4a9c-a7a3-f5ab154e2bb8"
      },
      "outputs": [
        {
          "name": "stdout",
          "output_type": "stream",
          "text": [
            "\n",
            "\n",
            "\u001b[1m> Entering new RetrievalQA chain...\u001b[0m\n",
            "\n",
            "\u001b[1m> Finished chain.\u001b[0m\n",
            "\n",
            "\n",
            "\u001b[1m> Entering new RetrievalQA chain...\u001b[0m\n",
            "\n",
            "\u001b[1m> Finished chain.\u001b[0m\n",
            "\n",
            "\n",
            "\u001b[1m> Entering new RetrievalQA chain...\u001b[0m\n",
            "\n",
            "\u001b[1m> Finished chain.\u001b[0m\n",
            "\n",
            "\n",
            "\u001b[1m> Entering new RetrievalQA chain...\u001b[0m\n",
            "\n",
            "\u001b[1m> Finished chain.\u001b[0m\n",
            "\n",
            "\n",
            "\u001b[1m> Entering new RetrievalQA chain...\u001b[0m\n",
            "\n",
            "\u001b[1m> Finished chain.\u001b[0m\n",
            "\n",
            "\n",
            "\u001b[1m> Entering new RetrievalQA chain...\u001b[0m\n",
            "\n",
            "\u001b[1m> Finished chain.\u001b[0m\n",
            "\n",
            "\n",
            "\u001b[1m> Entering new RetrievalQA chain...\u001b[0m\n",
            "\n",
            "\u001b[1m> Finished chain.\u001b[0m\n",
            "\n",
            "[{'query': 'What is the name of the jacket that is suitable for light activity up to 20 degrees and moderate activity up to -30 degrees?', 'result': 'Ultra-Lofty 850 Stretch Down Hooded Jacket'}, {'query': 'What is the name of the sheet set that is made of brushed cotton flannel?', 'result': 'The Cosy Cushion Flannel Sheet Set, Stripe is made of brushed cotton flannel.'}, {'query': 'What is the name of the product that is made of 85% wool and 15% nylon?', 'result': 'The product that is made of 85% wool and 15% nylon is the Vista Wool Midweight Performance Crew, Print.'}, {'query': 'What is the name of the shirt that is made of 100% cotton?', 'result': 'The Careless Indestructible Tee, Timeless Fit, Long-Sleeve Henley is made of 100% cotton.'}, {'query': 'What is the weight of the kayak with the seat?', 'result': '31.5 lb'}, {'query': 'Do the Cozy Comfort Pullover Set have side pockets?', 'result': 'Yes'}, {'query': 'What collection is the Ultra-Lofty 850 Stretch Down Hooded Jacket from?', 'result': 'The Ultra-Lofty 850 Stretch Down Hooded Jacket is from the DownTek collection.'}]\n"
          ]
        }
      ],
      "source": [
        "questions = []\n",
        "for item in examples:\n",
        "  questions.append({\n",
        "    \"query\": item['query']\n",
        "  })\n",
        "\n",
        "predictions = qa.apply(questions)\n",
        "\n",
        "print(f\"\\n{predictions}\")"
      ]
    },
    {
      "cell_type": "code",
      "execution_count": 52,
      "metadata": {
        "colab": {
          "base_uri": "https://localhost:8080/"
        },
        "id": "ZYUjbGE8jKYR",
        "outputId": "29825568-027b-4e90-d9db-7660d75a8f9d"
      },
      "outputs": [
        {
          "name": "stdout",
          "output_type": "stream",
          "text": [
            "Example 0:\n",
            "Question: What is the name of the jacket that is suitable for light activity up to 20 degrees and moderate activity up to -30 degrees?\n",
            "Real Answer: Ultra-Lofty 850 Stretch Down Hooded Jacket\n",
            "Predicted Answer: Ultra-Lofty 850 Stretch Down Hooded Jacket\n",
            "Predicted Grade: CORRECT\n",
            "\n",
            "Example 1:\n",
            "Question: What is the name of the sheet set that is made of brushed cotton flannel?\n",
            "Real Answer: CozyCloud Flannel Sheet Set\n",
            "Predicted Answer: The Cosy Cushion Flannel Sheet Set, Stripe is made of brushed cotton flannel.\n",
            "Predicted Grade: INCORRECT\n",
            "\n",
            "Example 2:\n",
            "Question: What is the name of the product that is made of 85% wool and 15% nylon?\n",
            "Real Answer: Men's Maine Explorer Zip-Front Jac-Shirt\n",
            "Predicted Answer: The product that is made of 85% wool and 15% nylon is the Vista Wool Midweight Performance Crew, Print.\n",
            "Predicted Grade: INCORRECT\n",
            "\n",
            "Example 3:\n",
            "Question: What is the name of the shirt that is made of 100% cotton?\n",
            "Real Answer: Easy-Care Classic Stripe Short-Sleeve Shirt, Traditional Fit\n",
            "Predicted Answer: The Careless Indestructible Tee, Timeless Fit, Long-Sleeve Henley is made of 100% cotton.\n",
            "Predicted Grade: INCORRECT\n",
            "\n",
            "Example 4:\n",
            "Question: What is the weight of the kayak with the seat?\n",
            "Real Answer: 38 lb.\n",
            "Predicted Answer: 31.5 lb\n",
            "Predicted Grade: INCORRECT\n",
            "\n",
            "Example 5:\n",
            "Question: Do the Cozy Comfort Pullover Set have side pockets?\n",
            "Real Answer: Yes\n",
            "Predicted Answer: Yes\n",
            "Predicted Grade: CORRECT\n",
            "\n",
            "Example 6:\n",
            "Question: What collection is the Ultra-Lofty 850 Stretch Down Hooded Jacket from?\n",
            "Real Answer: The DownTek collection\n",
            "Predicted Answer: The Ultra-Lofty 850 Stretch Down Hooded Jacket is from the DownTek collection.\n",
            "Predicted Grade: CORRECT\n",
            "\n"
          ]
        }
      ],
      "source": [
        "from langchain.evaluation.qa import QAEvalChain\n",
        "\n",
        "eval_chain = QAEvalChain.from_llm(bison)\n",
        "\n",
        "graded_outputs = eval_chain.evaluate(examples, predictions)\n",
        "\n",
        "for i, eg in enumerate(examples):\n",
        "    print(f\"Example {i}:\")\n",
        "    print(\"Question: \" + examples[i]['query'])\n",
        "    print(\"Real Answer: \" + examples[i]['answer'])\n",
        "    print(\"Predicted Answer: \" + predictions[i]['result'])\n",
        "    print(\"Predicted Grade: \" + graded_outputs[i]['results'])\n",
        "    print()"
      ]
    }
  ],
  "metadata": {
    "colab": {
      "provenance": []
    },
    "kernelspec": {
      "display_name": "Python 3",
      "name": "python3"
    },
    "language_info": {
      "name": "python"
    }
  },
  "nbformat": 4,
  "nbformat_minor": 0
}
